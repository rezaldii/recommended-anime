{
 "cells": [
  {
   "cell_type": "markdown",
   "metadata": {},
   "source": [
    "# Recommended-anime\n",
    "## Dataset: https://www.kaggle.com/datasets/CooperUnion/anime-recommendations-database"
   ]
  },
  {
   "cell_type": "markdown",
   "metadata": {},
   "source": [
    "Berikut adalah beberapa langkah yang dapat Anda lakukan dalam bagian \"Data Understanding\":\n",
    "\n",
    "1. **Deskripsi Data**: Mulailah dengan memberikan deskripsi umum tentang data Anda. Ini bisa mencakup jumlah baris dan kolom, jenis data (numerik atau kategorikal), dan informasi lainnya yang relevan.\n",
    "\n",
    "2. **Eksplorasi Awal**: Gunakan metode statistik deskriptif untuk mendapatkan pemahaman awal tentang data Anda. Ini bisa mencakup mean, median, modus, standar deviasi, dan lainnya. Anda juga dapat mencari nilai null atau missing values dalam data Anda.\n",
    "\n",
    "3. **Visualisasi Data**: Buatlah beberapa plot untuk membantu Anda memahami data. Ini bisa mencakup histogram, boxplot, scatterplot, heatmap korelasi, dan lainnya. Visualisasi ini dapat membantu Anda melihat distribusi data, hubungan antar variabel, dan outlier.\n",
    "\n",
    "4. **Analisis Fitur**: Analisis setiap fitur dalam dataset Anda. Apakah fitur tersebut numerik atau kategorikal? Apakah ada missing values? Bagaimana distribusinya? Apakah ada outlier? Bagaimana korelasi antara fitur ini dengan fitur lainnya?\n",
    "\n",
    "5. **Insight Awal**: Berdasarkan eksplorasi dan visualisasi yang telah Anda lakukan, apa insight awal yang dapat Anda peroleh? Apakah ada pola tertentu? Apakah ada fitur yang tampaknya akan sangat berpengaruh dalam model Anda nanti?\n"
   ]
  },
  {
   "cell_type": "markdown",
   "metadata": {},
   "source": [
    "# Import library"
   ]
  },
  {
   "cell_type": "code",
   "execution_count": 4,
   "metadata": {},
   "outputs": [],
   "source": [
    "import pandas as pd"
   ]
  },
  {
   "cell_type": "markdown",
   "metadata": {},
   "source": [
    "# Data Understanding"
   ]
  },
  {
   "cell_type": "markdown",
   "metadata": {},
   "source": [
    "## Deskripsi Data"
   ]
  },
  {
   "cell_type": "code",
   "execution_count": 6,
   "metadata": {},
   "outputs": [],
   "source": [
    "df_anime = pd.read_csv('dataset/anime.csv')"
   ]
  },
  {
   "cell_type": "code",
   "execution_count": 8,
   "metadata": {},
   "outputs": [
    {
     "name": "stdout",
     "output_type": "stream",
     "text": [
      "Jumlah Baris: 12294\n",
      "Jumlah Kolom: 7\n"
     ]
    }
   ],
   "source": [
    "# Ukuran Data\n",
    "print(f'Jumlah Baris: {df_anime.shape[0]}')\n",
    "print(f'Jumlah Kolom: {df_anime.shape[1]}')"
   ]
  },
  {
   "cell_type": "code",
   "execution_count": 9,
   "metadata": {},
   "outputs": [
    {
     "name": "stdout",
     "output_type": "stream",
     "text": [
      "Fitur: ['anime_id', 'name', 'genre', 'type', 'episodes', 'rating', 'members']\n"
     ]
    }
   ],
   "source": [
    "# Fitur Data\n",
    "print(f'Fitur: {df_anime.columns.tolist()}')"
   ]
  },
  {
   "cell_type": "markdown",
   "metadata": {},
   "source": [
    "Berikut adalah penjelasan singkat tentang fitur-fitur tersebut:\n",
    "\n",
    "- `anime_id`: ID unik dari myanimelist.net yang mengidentifikasi anime.\n",
    "- `name`: Nama lengkap anime.\n",
    "- `genre`: Daftar genre untuk anime ini, dipisahkan oleh koma.\n",
    "- `type`: Jenis anime (misalnya, film, TV, OVA, dll.).\n",
    "- `episodes`: Jumlah episode dalam acara ini (1 jika film).\n",
    "- `rating`: Rata-rata rating dari semua pengguna di database myanimelist.net.\n",
    "- `members`: Jumlah anggota komunitas yang berada dalam \"grup\" anime ini."
   ]
  },
  {
   "cell_type": "code",
   "execution_count": 10,
   "metadata": {},
   "outputs": [
    {
     "name": "stdout",
     "output_type": "stream",
     "text": [
      "Tipe Data:\n",
      "anime_id      int64\n",
      "name         object\n",
      "genre        object\n",
      "type         object\n",
      "episodes     object\n",
      "rating      float64\n",
      "members       int64\n",
      "dtype: object\n"
     ]
    }
   ],
   "source": [
    "# Tipe Data\n",
    "print(f'Tipe Data:\\n{df_anime.dtypes}')"
   ]
  },
  {
   "cell_type": "code",
   "execution_count": null,
   "metadata": {},
   "outputs": [],
   "source": []
  }
 ],
 "metadata": {
  "kernelspec": {
   "display_name": "tf",
   "language": "python",
   "name": "python3"
  },
  "language_info": {
   "codemirror_mode": {
    "name": "ipython",
    "version": 3
   },
   "file_extension": ".py",
   "mimetype": "text/x-python",
   "name": "python",
   "nbconvert_exporter": "python",
   "pygments_lexer": "ipython3",
   "version": "3.9.2"
  },
  "orig_nbformat": 4
 },
 "nbformat": 4,
 "nbformat_minor": 2
}
